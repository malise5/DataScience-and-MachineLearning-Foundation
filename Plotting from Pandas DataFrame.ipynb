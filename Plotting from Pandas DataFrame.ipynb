{
 "cells": [
  {
   "cell_type": "markdown",
   "id": "f424dfed",
   "metadata": {},
   "source": [
    "# Plotting from Pandas DataFrame"
   ]
  },
  {
   "cell_type": "code",
   "execution_count": 19,
   "id": "16169d59",
   "metadata": {},
   "outputs": [],
   "source": [
    "%matplotlib inline\n",
    "import matplotlib.pyplot as plt\n",
    "import pandas as pd\n",
    "import numpy as np\n",
    "import seaborn as sns\n"
   ]
  },
  {
   "cell_type": "code",
   "execution_count": 2,
   "id": "379948d4",
   "metadata": {},
   "outputs": [
    {
     "data": {
      "text/html": [
       "<div>\n",
       "<style scoped>\n",
       "    .dataframe tbody tr th:only-of-type {\n",
       "        vertical-align: middle;\n",
       "    }\n",
       "\n",
       "    .dataframe tbody tr th {\n",
       "        vertical-align: top;\n",
       "    }\n",
       "\n",
       "    .dataframe thead th {\n",
       "        text-align: right;\n",
       "    }\n",
       "</style>\n",
       "<table border=\"1\" class=\"dataframe\">\n",
       "  <thead>\n",
       "    <tr style=\"text-align: right;\">\n",
       "      <th></th>\n",
       "      <th>Make</th>\n",
       "      <th>Color</th>\n",
       "      <th>Odometer(KM)</th>\n",
       "      <th>Doors</th>\n",
       "      <th>Price</th>\n",
       "    </tr>\n",
       "  </thead>\n",
       "  <tbody>\n",
       "    <tr>\n",
       "      <th>0</th>\n",
       "      <td>Toyota</td>\n",
       "      <td>Red</td>\n",
       "      <td>50000.0</td>\n",
       "      <td>4.0</td>\n",
       "      <td>20000.0</td>\n",
       "    </tr>\n",
       "    <tr>\n",
       "      <th>1</th>\n",
       "      <td>Honda</td>\n",
       "      <td>Blue</td>\n",
       "      <td>35000.0</td>\n",
       "      <td>2.0</td>\n",
       "      <td>18000.0</td>\n",
       "    </tr>\n",
       "    <tr>\n",
       "      <th>2</th>\n",
       "      <td>Ford</td>\n",
       "      <td>Black</td>\n",
       "      <td>45000.0</td>\n",
       "      <td>4.0</td>\n",
       "      <td>22000.0</td>\n",
       "    </tr>\n",
       "    <tr>\n",
       "      <th>3</th>\n",
       "      <td>BMW</td>\n",
       "      <td>White</td>\n",
       "      <td>25000.0</td>\n",
       "      <td>2.0</td>\n",
       "      <td>30000.0</td>\n",
       "    </tr>\n",
       "    <tr>\n",
       "      <th>4</th>\n",
       "      <td>Chevrolet</td>\n",
       "      <td>Silver</td>\n",
       "      <td>40000.0</td>\n",
       "      <td>4.0</td>\n",
       "      <td>15000.0</td>\n",
       "    </tr>\n",
       "  </tbody>\n",
       "</table>\n",
       "</div>"
      ],
      "text/plain": [
       "        Make   Color  Odometer(KM)  Doors    Price\n",
       "0     Toyota     Red       50000.0    4.0  20000.0\n",
       "1      Honda    Blue       35000.0    2.0  18000.0\n",
       "2       Ford   Black       45000.0    4.0  22000.0\n",
       "3        BMW   White       25000.0    2.0  30000.0\n",
       "4  Chevrolet  Silver       40000.0    4.0  15000.0"
      ]
     },
     "execution_count": 2,
     "metadata": {},
     "output_type": "execute_result"
    }
   ],
   "source": [
    "#make a data frame\n",
    "car_sales = pd.read_csv(\"cars-sales.csv\")\n",
    "car_sales"
   ]
  },
  {
   "cell_type": "code",
   "execution_count": 3,
   "id": "6af22d5e",
   "metadata": {},
   "outputs": [
    {
     "data": {
      "image/png": "[encoded data removed]",
      "text/plain": [
       "<Figure size 432x288 with 1 Axes>"
      ]
     },
     "metadata": {
      "needs_background": "light"
     },
     "output_type": "display_data"
    }
   ],
   "source": [
    "ts = pd.Series(np.random.randn(1000), index=pd.date_range(\"1/1/2023\", periods=1000))\n",
    "ts = ts.cumsum()\n",
    "ts.plot();"
   ]
  },
  {
   "cell_type": "code",
   "execution_count": 4,
   "id": "661a9100",
   "metadata": {},
   "outputs": [
    {
     "data": {
      "text/html": [
       "<div>\n",
       "<style scoped>\n",
       "    .dataframe tbody tr th:only-of-type {\n",
       "        vertical-align: middle;\n",
       "    }\n",
       "\n",
       "    .dataframe tbody tr th {\n",
       "        vertical-align: top;\n",
       "    }\n",
       "\n",
       "    .dataframe thead th {\n",
       "        text-align: right;\n",
       "    }\n",
       "</style>\n",
       "<table border=\"1\" class=\"dataframe\">\n",
       "  <thead>\n",
       "    <tr style=\"text-align: right;\">\n",
       "      <th></th>\n",
       "      <th>Make</th>\n",
       "      <th>Color</th>\n",
       "      <th>Odometer(KM)</th>\n",
       "      <th>Doors</th>\n",
       "      <th>Price</th>\n",
       "    </tr>\n",
       "  </thead>\n",
       "  <tbody>\n",
       "    <tr>\n",
       "      <th>0</th>\n",
       "      <td>Toyota</td>\n",
       "      <td>Red</td>\n",
       "      <td>50000.0</td>\n",
       "      <td>4.0</td>\n",
       "      <td>20000.0</td>\n",
       "    </tr>\n",
       "    <tr>\n",
       "      <th>1</th>\n",
       "      <td>Honda</td>\n",
       "      <td>Blue</td>\n",
       "      <td>35000.0</td>\n",
       "      <td>2.0</td>\n",
       "      <td>18000.0</td>\n",
       "    </tr>\n",
       "    <tr>\n",
       "      <th>2</th>\n",
       "      <td>Ford</td>\n",
       "      <td>Black</td>\n",
       "      <td>45000.0</td>\n",
       "      <td>4.0</td>\n",
       "      <td>22000.0</td>\n",
       "    </tr>\n",
       "    <tr>\n",
       "      <th>3</th>\n",
       "      <td>BMW</td>\n",
       "      <td>White</td>\n",
       "      <td>25000.0</td>\n",
       "      <td>2.0</td>\n",
       "      <td>30000.0</td>\n",
       "    </tr>\n",
       "    <tr>\n",
       "      <th>4</th>\n",
       "      <td>Chevrolet</td>\n",
       "      <td>Silver</td>\n",
       "      <td>40000.0</td>\n",
       "      <td>4.0</td>\n",
       "      <td>15000.0</td>\n",
       "    </tr>\n",
       "  </tbody>\n",
       "</table>\n",
       "</div>"
      ],
      "text/plain": [
       "        Make   Color  Odometer(KM)  Doors    Price\n",
       "0     Toyota     Red       50000.0    4.0  20000.0\n",
       "1      Honda    Blue       35000.0    2.0  18000.0\n",
       "2       Ford   Black       45000.0    4.0  22000.0\n",
       "3        BMW   White       25000.0    2.0  30000.0\n",
       "4  Chevrolet  Silver       40000.0    4.0  15000.0"
      ]
     },
     "execution_count": 4,
     "metadata": {},
     "output_type": "execute_result"
    }
   ],
   "source": [
    "car_sales"
   ]
  },
  {
   "cell_type": "code",
   "execution_count": 5,
   "id": "52a70b1d",
   "metadata": {},
   "outputs": [
    {
     "data": {
      "text/html": [
       "<div>\n",
       "<style scoped>\n",
       "    .dataframe tbody tr th:only-of-type {\n",
       "        vertical-align: middle;\n",
       "    }\n",
       "\n",
       "    .dataframe tbody tr th {\n",
       "        vertical-align: top;\n",
       "    }\n",
       "\n",
       "    .dataframe thead th {\n",
       "        text-align: right;\n",
       "    }\n",
       "</style>\n",
       "<table border=\"1\" class=\"dataframe\">\n",
       "  <thead>\n",
       "    <tr style=\"text-align: right;\">\n",
       "      <th></th>\n",
       "      <th>Make</th>\n",
       "      <th>Color</th>\n",
       "      <th>Odometer(KM)</th>\n",
       "      <th>Doors</th>\n",
       "      <th>Price</th>\n",
       "      <th>Sales Date</th>\n",
       "    </tr>\n",
       "  </thead>\n",
       "  <tbody>\n",
       "    <tr>\n",
       "      <th>0</th>\n",
       "      <td>Toyota</td>\n",
       "      <td>Red</td>\n",
       "      <td>50000.0</td>\n",
       "      <td>4.0</td>\n",
       "      <td>20000.0</td>\n",
       "      <td>2023-01-01</td>\n",
       "    </tr>\n",
       "    <tr>\n",
       "      <th>1</th>\n",
       "      <td>Honda</td>\n",
       "      <td>Blue</td>\n",
       "      <td>35000.0</td>\n",
       "      <td>2.0</td>\n",
       "      <td>18000.0</td>\n",
       "      <td>2023-01-02</td>\n",
       "    </tr>\n",
       "    <tr>\n",
       "      <th>2</th>\n",
       "      <td>Ford</td>\n",
       "      <td>Black</td>\n",
       "      <td>45000.0</td>\n",
       "      <td>4.0</td>\n",
       "      <td>22000.0</td>\n",
       "      <td>2023-01-03</td>\n",
       "    </tr>\n",
       "    <tr>\n",
       "      <th>3</th>\n",
       "      <td>BMW</td>\n",
       "      <td>White</td>\n",
       "      <td>25000.0</td>\n",
       "      <td>2.0</td>\n",
       "      <td>30000.0</td>\n",
       "      <td>2023-01-04</td>\n",
       "    </tr>\n",
       "    <tr>\n",
       "      <th>4</th>\n",
       "      <td>Chevrolet</td>\n",
       "      <td>Silver</td>\n",
       "      <td>40000.0</td>\n",
       "      <td>4.0</td>\n",
       "      <td>15000.0</td>\n",
       "      <td>2023-01-05</td>\n",
       "    </tr>\n",
       "  </tbody>\n",
       "</table>\n",
       "</div>"
      ],
      "text/plain": [
       "        Make   Color  Odometer(KM)  Doors    Price Sales Date\n",
       "0     Toyota     Red       50000.0    4.0  20000.0 2023-01-01\n",
       "1      Honda    Blue       35000.0    2.0  18000.0 2023-01-02\n",
       "2       Ford   Black       45000.0    4.0  22000.0 2023-01-03\n",
       "3        BMW   White       25000.0    2.0  30000.0 2023-01-04\n",
       "4  Chevrolet  Silver       40000.0    4.0  15000.0 2023-01-05"
      ]
     },
     "execution_count": 5,
     "metadata": {},
     "output_type": "execute_result"
    }
   ],
   "source": [
    "car_sales[\"Sales Date\"] = pd.date_range(\"1/1/2023\", periods=len(car_sales))\n",
    "car_sales"
   ]
  },
  {
   "cell_type": "code",
   "execution_count": 6,
   "id": "dbed1040",
   "metadata": {},
   "outputs": [
    {
     "data": {
      "text/html": [
       "<div>\n",
       "<style scoped>\n",
       "    .dataframe tbody tr th:only-of-type {\n",
       "        vertical-align: middle;\n",
       "    }\n",
       "\n",
       "    .dataframe tbody tr th {\n",
       "        vertical-align: top;\n",
       "    }\n",
       "\n",
       "    .dataframe thead th {\n",
       "        text-align: right;\n",
       "    }\n",
       "</style>\n",
       "<table border=\"1\" class=\"dataframe\">\n",
       "  <thead>\n",
       "    <tr style=\"text-align: right;\">\n",
       "      <th></th>\n",
       "      <th>Make</th>\n",
       "      <th>Color</th>\n",
       "      <th>Odometer(KM)</th>\n",
       "      <th>Doors</th>\n",
       "      <th>Price</th>\n",
       "      <th>Sales Date</th>\n",
       "      <th>Total Sales</th>\n",
       "    </tr>\n",
       "  </thead>\n",
       "  <tbody>\n",
       "    <tr>\n",
       "      <th>0</th>\n",
       "      <td>Toyota</td>\n",
       "      <td>Red</td>\n",
       "      <td>50000.0</td>\n",
       "      <td>4.0</td>\n",
       "      <td>20000.0</td>\n",
       "      <td>2023-01-01</td>\n",
       "      <td>20000.0</td>\n",
       "    </tr>\n",
       "    <tr>\n",
       "      <th>1</th>\n",
       "      <td>Honda</td>\n",
       "      <td>Blue</td>\n",
       "      <td>35000.0</td>\n",
       "      <td>2.0</td>\n",
       "      <td>18000.0</td>\n",
       "      <td>2023-01-02</td>\n",
       "      <td>38000.0</td>\n",
       "    </tr>\n",
       "    <tr>\n",
       "      <th>2</th>\n",
       "      <td>Ford</td>\n",
       "      <td>Black</td>\n",
       "      <td>45000.0</td>\n",
       "      <td>4.0</td>\n",
       "      <td>22000.0</td>\n",
       "      <td>2023-01-03</td>\n",
       "      <td>60000.0</td>\n",
       "    </tr>\n",
       "    <tr>\n",
       "      <th>3</th>\n",
       "      <td>BMW</td>\n",
       "      <td>White</td>\n",
       "      <td>25000.0</td>\n",
       "      <td>2.0</td>\n",
       "      <td>30000.0</td>\n",
       "      <td>2023-01-04</td>\n",
       "      <td>90000.0</td>\n",
       "    </tr>\n",
       "    <tr>\n",
       "      <th>4</th>\n",
       "      <td>Chevrolet</td>\n",
       "      <td>Silver</td>\n",
       "      <td>40000.0</td>\n",
       "      <td>4.0</td>\n",
       "      <td>15000.0</td>\n",
       "      <td>2023-01-05</td>\n",
       "      <td>105000.0</td>\n",
       "    </tr>\n",
       "  </tbody>\n",
       "</table>\n",
       "</div>"
      ],
      "text/plain": [
       "        Make   Color  Odometer(KM)  Doors    Price Sales Date  Total Sales\n",
       "0     Toyota     Red       50000.0    4.0  20000.0 2023-01-01      20000.0\n",
       "1      Honda    Blue       35000.0    2.0  18000.0 2023-01-02      38000.0\n",
       "2       Ford   Black       45000.0    4.0  22000.0 2023-01-03      60000.0\n",
       "3        BMW   White       25000.0    2.0  30000.0 2023-01-04      90000.0\n",
       "4  Chevrolet  Silver       40000.0    4.0  15000.0 2023-01-05     105000.0"
      ]
     },
     "execution_count": 6,
     "metadata": {},
     "output_type": "execute_result"
    }
   ],
   "source": [
    "#add all the price total\n",
    "car_sales[\"Total Sales\"] = car_sales[\"Price\"].cumsum()\n",
    "car_sales"
   ]
  },
  {
   "cell_type": "code",
   "execution_count": 7,
   "id": "5b8f43ac",
   "metadata": {
    "scrolled": true
   },
   "outputs": [
    {
     "data": {
      "image/png": "[encoded data removed]",
      "text/plain": [
       "<Figure size 432x288 with 1 Axes>"
      ]
     },
     "metadata": {
      "needs_background": "light"
     },
     "output_type": "display_data"
    }
   ],
   "source": [
    "#plot total sales\n",
    "car_sales.plot(x = \"Sales Date\", y = \"Total Sales\");\n"
   ]
  },
  {
   "cell_type": "code",
   "execution_count": 8,
   "id": "c91a12d9",
   "metadata": {},
   "outputs": [
    {
     "data": {
      "image/png": "[encoded data removed]",
      "text/plain": [
       "<Figure size 432x288 with 1 Axes>"
      ]
     },
     "metadata": {
      "needs_background": "light"
     },
     "output_type": "display_data"
    }
   ],
   "source": [
    "car_sales.plot(x = \"Odometer(KM)\", y = \"Price\", kind=\"scatter\");"
   ]
  },
  {
   "cell_type": "code",
   "execution_count": 9,
   "id": "94fbc4af",
   "metadata": {},
   "outputs": [
    {
     "data": {
      "text/html": [
       "<div>\n",
       "<style scoped>\n",
       "    .dataframe tbody tr th:only-of-type {\n",
       "        vertical-align: middle;\n",
       "    }\n",
       "\n",
       "    .dataframe tbody tr th {\n",
       "        vertical-align: top;\n",
       "    }\n",
       "\n",
       "    .dataframe thead th {\n",
       "        text-align: right;\n",
       "    }\n",
       "</style>\n",
       "<table border=\"1\" class=\"dataframe\">\n",
       "  <thead>\n",
       "    <tr style=\"text-align: right;\">\n",
       "      <th></th>\n",
       "      <th>a</th>\n",
       "      <th>b</th>\n",
       "      <th>c</th>\n",
       "      <th>d</th>\n",
       "    </tr>\n",
       "  </thead>\n",
       "  <tbody>\n",
       "    <tr>\n",
       "      <th>0</th>\n",
       "      <td>0.338050</td>\n",
       "      <td>0.495237</td>\n",
       "      <td>0.788817</td>\n",
       "      <td>0.972378</td>\n",
       "    </tr>\n",
       "    <tr>\n",
       "      <th>1</th>\n",
       "      <td>0.577116</td>\n",
       "      <td>0.032393</td>\n",
       "      <td>0.024122</td>\n",
       "      <td>0.696685</td>\n",
       "    </tr>\n",
       "    <tr>\n",
       "      <th>2</th>\n",
       "      <td>0.285842</td>\n",
       "      <td>0.170010</td>\n",
       "      <td>0.332378</td>\n",
       "      <td>0.288592</td>\n",
       "    </tr>\n",
       "    <tr>\n",
       "      <th>3</th>\n",
       "      <td>0.322015</td>\n",
       "      <td>0.611445</td>\n",
       "      <td>0.066504</td>\n",
       "      <td>0.344251</td>\n",
       "    </tr>\n",
       "    <tr>\n",
       "      <th>4</th>\n",
       "      <td>0.912164</td>\n",
       "      <td>0.661689</td>\n",
       "      <td>0.682547</td>\n",
       "      <td>0.657108</td>\n",
       "    </tr>\n",
       "    <tr>\n",
       "      <th>5</th>\n",
       "      <td>0.002146</td>\n",
       "      <td>0.268969</td>\n",
       "      <td>0.750112</td>\n",
       "      <td>0.905450</td>\n",
       "    </tr>\n",
       "    <tr>\n",
       "      <th>6</th>\n",
       "      <td>0.220020</td>\n",
       "      <td>0.096519</td>\n",
       "      <td>0.103761</td>\n",
       "      <td>0.390934</td>\n",
       "    </tr>\n",
       "    <tr>\n",
       "      <th>7</th>\n",
       "      <td>0.022862</td>\n",
       "      <td>0.538490</td>\n",
       "      <td>0.260665</td>\n",
       "      <td>0.496972</td>\n",
       "    </tr>\n",
       "    <tr>\n",
       "      <th>8</th>\n",
       "      <td>0.989357</td>\n",
       "      <td>0.513161</td>\n",
       "      <td>0.581022</td>\n",
       "      <td>0.489059</td>\n",
       "    </tr>\n",
       "    <tr>\n",
       "      <th>9</th>\n",
       "      <td>0.766345</td>\n",
       "      <td>0.306757</td>\n",
       "      <td>0.172235</td>\n",
       "      <td>0.421468</td>\n",
       "    </tr>\n",
       "  </tbody>\n",
       "</table>\n",
       "</div>"
      ],
      "text/plain": [
       "          a         b         c         d\n",
       "0  0.338050  0.495237  0.788817  0.972378\n",
       "1  0.577116  0.032393  0.024122  0.696685\n",
       "2  0.285842  0.170010  0.332378  0.288592\n",
       "3  0.322015  0.611445  0.066504  0.344251\n",
       "4  0.912164  0.661689  0.682547  0.657108\n",
       "5  0.002146  0.268969  0.750112  0.905450\n",
       "6  0.220020  0.096519  0.103761  0.390934\n",
       "7  0.022862  0.538490  0.260665  0.496972\n",
       "8  0.989357  0.513161  0.581022  0.489059\n",
       "9  0.766345  0.306757  0.172235  0.421468"
      ]
     },
     "execution_count": 9,
     "metadata": {},
     "output_type": "execute_result"
    }
   ],
   "source": [
    "x = np.random.rand(10, 4)\n",
    "\n",
    "df = pd.DataFrame(x, columns=[\"a\",\"b\",\"c\",\"d\"])\n",
    "df"
   ]
  },
  {
   "cell_type": "code",
   "execution_count": 10,
   "id": "00028e7d",
   "metadata": {},
   "outputs": [
    {
     "data": {
      "image/png": "[encoded data removed]",
      "text/plain": [
       "<Figure size 432x288 with 1 Axes>"
      ]
     },
     "metadata": {
      "needs_background": "light"
     },
     "output_type": "display_data"
    }
   ],
   "source": [
    "df.plot.bar();"
   ]
  },
  {
   "cell_type": "code",
   "execution_count": 11,
   "id": "a34627a0",
   "metadata": {},
   "outputs": [
    {
     "data": {
      "image/png": "[encoded data removed]",
      "text/plain": [
       "<Figure size 432x288 with 1 Axes>"
      ]
     },
     "metadata": {
      "needs_background": "light"
     },
     "output_type": "display_data"
    }
   ],
   "source": [
    "car_sales.plot(x=\"Make\", y=\"Odometer(KM)\", kind=\"bar\");"
   ]
  },
  {
   "cell_type": "code",
   "execution_count": 12,
   "id": "db17d1d7",
   "metadata": {},
   "outputs": [
    {
     "data": {
      "image/png": "[encoded data removed]",
      "text/plain": [
       "<Figure size 432x288 with 1 Axes>"
      ]
     },
     "metadata": {
      "needs_background": "light"
     },
     "output_type": "display_data"
    }
   ],
   "source": [
    "car_sales[\"Odometer(KM)\"].plot.hist(bins=8);"
   ]
  },
  {
   "cell_type": "markdown",
   "id": "aebce2df",
   "metadata": {},
   "source": [
    "# SAMPLE"
   ]
  },
  {
   "cell_type": "code",
   "execution_count": 14,
   "id": "32a9b794",
   "metadata": {},
   "outputs": [
    {
     "data": {
      "text/plain": [
       "array([[-0.79309009, -0.10880287, -0.9328658 , -0.73970388],\n",
       "       [-1.29860551, -1.46535317,  0.06723858,  0.60220333],\n",
       "       [-0.72487004, -0.25953154,  0.62378736, -0.34414211],\n",
       "       [ 0.88895747, -0.07669869,  0.53567926,  0.86324862],\n",
       "       [ 0.66350199, -0.34619843, -0.45794046, -0.9686279 ],\n",
       "       [-0.11467304,  0.01630607,  0.30600871, -0.60326218],\n",
       "       [-0.35771163, -0.00981369, -0.93232442,  0.35846587],\n",
       "       [ 1.18941757,  3.6194082 , -0.19623708,  0.14847706],\n",
       "       [-1.1050705 ,  0.21276756,  0.84910419, -1.89170324],\n",
       "       [ 0.72056481, -1.22039853,  1.59801144, -0.43148601]])"
      ]
     },
     "execution_count": 14,
     "metadata": {},
     "output_type": "execute_result"
    }
   ],
   "source": [
    "x = np.random.randn(10,4)\n",
    "x"
   ]
  },
  {
   "cell_type": "code",
   "execution_count": 15,
   "id": "71afab70",
   "metadata": {},
   "outputs": [
    {
     "data": {
      "text/html": [
       "<div>\n",
       "<style scoped>\n",
       "    .dataframe tbody tr th:only-of-type {\n",
       "        vertical-align: middle;\n",
       "    }\n",
       "\n",
       "    .dataframe tbody tr th {\n",
       "        vertical-align: top;\n",
       "    }\n",
       "\n",
       "    .dataframe thead th {\n",
       "        text-align: right;\n",
       "    }\n",
       "</style>\n",
       "<table border=\"1\" class=\"dataframe\">\n",
       "  <thead>\n",
       "    <tr style=\"text-align: right;\">\n",
       "      <th></th>\n",
       "      <th>a</th>\n",
       "      <th>b</th>\n",
       "      <th>c</th>\n",
       "      <th>d</th>\n",
       "    </tr>\n",
       "  </thead>\n",
       "  <tbody>\n",
       "    <tr>\n",
       "      <th>0</th>\n",
       "      <td>-0.793090</td>\n",
       "      <td>-0.108803</td>\n",
       "      <td>-0.932866</td>\n",
       "      <td>-0.739704</td>\n",
       "    </tr>\n",
       "    <tr>\n",
       "      <th>1</th>\n",
       "      <td>-1.298606</td>\n",
       "      <td>-1.465353</td>\n",
       "      <td>0.067239</td>\n",
       "      <td>0.602203</td>\n",
       "    </tr>\n",
       "    <tr>\n",
       "      <th>2</th>\n",
       "      <td>-0.724870</td>\n",
       "      <td>-0.259532</td>\n",
       "      <td>0.623787</td>\n",
       "      <td>-0.344142</td>\n",
       "    </tr>\n",
       "    <tr>\n",
       "      <th>3</th>\n",
       "      <td>0.888957</td>\n",
       "      <td>-0.076699</td>\n",
       "      <td>0.535679</td>\n",
       "      <td>0.863249</td>\n",
       "    </tr>\n",
       "    <tr>\n",
       "      <th>4</th>\n",
       "      <td>0.663502</td>\n",
       "      <td>-0.346198</td>\n",
       "      <td>-0.457940</td>\n",
       "      <td>-0.968628</td>\n",
       "    </tr>\n",
       "    <tr>\n",
       "      <th>5</th>\n",
       "      <td>-0.114673</td>\n",
       "      <td>0.016306</td>\n",
       "      <td>0.306009</td>\n",
       "      <td>-0.603262</td>\n",
       "    </tr>\n",
       "    <tr>\n",
       "      <th>6</th>\n",
       "      <td>-0.357712</td>\n",
       "      <td>-0.009814</td>\n",
       "      <td>-0.932324</td>\n",
       "      <td>0.358466</td>\n",
       "    </tr>\n",
       "    <tr>\n",
       "      <th>7</th>\n",
       "      <td>1.189418</td>\n",
       "      <td>3.619408</td>\n",
       "      <td>-0.196237</td>\n",
       "      <td>0.148477</td>\n",
       "    </tr>\n",
       "    <tr>\n",
       "      <th>8</th>\n",
       "      <td>-1.105071</td>\n",
       "      <td>0.212768</td>\n",
       "      <td>0.849104</td>\n",
       "      <td>-1.891703</td>\n",
       "    </tr>\n",
       "    <tr>\n",
       "      <th>9</th>\n",
       "      <td>0.720565</td>\n",
       "      <td>-1.220399</td>\n",
       "      <td>1.598011</td>\n",
       "      <td>-0.431486</td>\n",
       "    </tr>\n",
       "  </tbody>\n",
       "</table>\n",
       "</div>"
      ],
      "text/plain": [
       "          a         b         c         d\n",
       "0 -0.793090 -0.108803 -0.932866 -0.739704\n",
       "1 -1.298606 -1.465353  0.067239  0.602203\n",
       "2 -0.724870 -0.259532  0.623787 -0.344142\n",
       "3  0.888957 -0.076699  0.535679  0.863249\n",
       "4  0.663502 -0.346198 -0.457940 -0.968628\n",
       "5 -0.114673  0.016306  0.306009 -0.603262\n",
       "6 -0.357712 -0.009814 -0.932324  0.358466\n",
       "7  1.189418  3.619408 -0.196237  0.148477\n",
       "8 -1.105071  0.212768  0.849104 -1.891703\n",
       "9  0.720565 -1.220399  1.598011 -0.431486"
      ]
     },
     "execution_count": 15,
     "metadata": {},
     "output_type": "execute_result"
    }
   ],
   "source": [
    "df = pd.DataFrame(x, columns=[\"a\", \"b\", \"c\", \"d\"])\n",
    "df"
   ]
  },
  {
   "cell_type": "code",
   "execution_count": 16,
   "id": "7f789e3d",
   "metadata": {},
   "outputs": [
    {
     "data": {
      "image/png": "[encoded data removed]",
      "text/plain": [
       "<Figure size 432x288 with 1 Axes>"
      ]
     },
     "metadata": {
      "needs_background": "light"
     },
     "output_type": "display_data"
    }
   ],
   "source": [
    "ax = df.plot();"
   ]
  },
  {
   "cell_type": "code",
   "execution_count": 17,
   "id": "5a78bfcc",
   "metadata": {},
   "outputs": [
    {
     "data": {
      "image/png": "[encoded data removed]",
      "text/plain": [
       "<Figure size 432x288 with 1 Axes>"
      ]
     },
     "metadata": {
      "needs_background": "light"
     },
     "output_type": "display_data"
    }
   ],
   "source": [
    "ax = df.plot(kind=\"bar\");"
   ]
  },
  {
   "cell_type": "markdown",
   "id": "46266b82",
   "metadata": {},
   "source": [
    "# Customize"
   ]
  },
  {
   "cell_type": "code",
   "execution_count": 18,
   "id": "6ab59715",
   "metadata": {},
   "outputs": [
    {
     "data": {
      "image/png": "[encoded data removed]",
      "text/plain": [
       "<Figure size 432x288 with 1 Axes>"
      ]
     },
     "metadata": {
      "needs_background": "light"
     },
     "output_type": "display_data"
    }
   ],
   "source": [
    "ax = df.plot(kind='bar');\n",
    "#add labes\n",
    "ax.set(title=\"Random Number Bar Graph from DataFrame Generated\", xlabel=\"Row Number\", ylabel=\"Rabdom Y number\")\n",
    "#make the legend visisble\n",
    "ax.legend().set_visible(True)"
   ]
  },
  {
   "cell_type": "code",
   "execution_count": 30,
   "id": "5c15b5c1",
   "metadata": {
    "scrolled": false
   },
   "outputs": [
    {
     "data": {
      "image/png": "[encoded data removed]",
      "text/plain": [
       "<Figure size 720x432 with 1 Axes>"
      ]
     },
     "metadata": {},
     "output_type": "display_data"
    }
   ],
   "source": [
    "#plt style\n",
    "plt.style.use('seaborn')\n",
    "\n",
    "#oo method\n",
    "fig, ax = plt.subplots(figsize=(10,6))\n",
    "\n",
    "#plot the data\n",
    "scatter = ax.scatter(x=df[\"b\"], y=df[\"d\"], cmap=\"plasma\")\n",
    "\n",
    "#label the lot\n",
    "ax.set(title=\"Random Number Bar Graph from DataFrame Generated\", xlabel=\"Row Number\", ylabel=\"Rabdom Y number\")\n",
    "\n",
    "ax.axhline(df[\"d\"].mean(), linestyle=\"--\");"
   ]
  },
  {
   "cell_type": "code",
   "execution_count": null,
   "id": "84cae1b9",
   "metadata": {},
   "outputs": [],
   "source": []
  }
 ],
 "metadata": {
  "kernelspec": {
   "display_name": "Python 3 (ipykernel)",
   "language": "python",
   "name": "python3"
  },
  "language_info": {
   "codemirror_mode": {
    "name": "ipython",
    "version": 3
   },
   "file_extension": ".py",
   "mimetype": "text/x-python",
   "name": "python",
   "nbconvert_exporter": "python",
   "pygments_lexer": "ipython3",
   "version": "3.10.6"
  }
 },
 "nbformat": 4,
 "nbformat_minor": 5
}
